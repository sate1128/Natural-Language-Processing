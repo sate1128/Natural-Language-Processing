{
 "cells": [
  {
   "cell_type": "code",
   "execution_count": 36,
   "metadata": {},
   "outputs": [
    {
     "name": "stdout",
     "output_type": "stream",
     "text": [
      "success  ----- UTF-8-SIG        --- About Time\n",
      "success  ----- UTF-8-SIG        --- 2001: A Space Odyssey\n",
      "success  ----- UTF-8-SIG        --- A Clockwork Orange\n",
      "success  ----- Big5             --- Aliens\n",
      "fail     ----- GB2312           --- Alien\n",
      "success  ----- UTF-8-SIG        --- Avatar\n"
     ]
    }
   ],
   "source": [
    "#coding=utf-8\n",
    "import os\n",
    "import chardet\n",
    "import re \n",
    "import jieba\n",
    "from glob import glob\n",
    "\n",
    "def check_contain_chinese(check_str):\n",
    "    for ch in check_str:\n",
    "        if u'\\u4e00' <= ch <= u'\\u9fff':\n",
    "            return True\n",
    "    return False\n",
    "\n",
    "def srt_process():\n",
    "    if not os.path.exists('decode/'):\n",
    "        os.makedirs('decode/')\n",
    "    if not os.path.exists('seg/'):\n",
    "        os.makedirs('seg/')\n",
    "\n",
    "    for filename in glob('*.srt'):\n",
    "        with open(filename, 'rb') as file:\n",
    "            filename = filename.split('.')\n",
    "            title = filename[0]\n",
    "            contents = file.read()\n",
    "            detect = chardet.detect(contents)#detect the encoding\n",
    "            try: \n",
    "                lines = contents.decode(detect['encoding']).encode(\"utf8\").split(b'\\r\\n')\n",
    "                output = b''\n",
    "                for l in lines:\n",
    "                    output += l + b'\\n'\n",
    "                with open('decode/'+title+'.txt', 'wb') as fout:\n",
    "                    fout.write(output)\n",
    "                print('success  ----- {:16} --- {}'.format(detect['encoding'],title))\n",
    "            except: \n",
    "                print('fail     ----- {:16} --- {}'.format(detect['encoding'],title))\n",
    "\n",
    "            with open('decode/'+title+'.txt', 'r') as f:\n",
    "                seg_out = ''\n",
    "                for line in f:\n",
    "                    if check_contain_chinese(line):\n",
    "                        line = re.sub(r'[^\\w]','',line) \n",
    "                        seg_list = jieba.cut(line)\n",
    "                        if seg_list:\n",
    "                            line_out = ''\n",
    "                            for s in seg_list:\n",
    "                                if check_contain_chinese(s):\n",
    "                                    line_out += s + '/'\n",
    "                            seg_out += line_out + '\\n'\n",
    "            with open('seg/'+title+'.txt', 'w') as f2:\n",
    "                f2.write(seg_out)\n",
    "                \n",
    "def main():\n",
    "    srt_process()\n",
    "    \n",
    "if __name__ == \"__main__\":\n",
    "    main()"
   ]
  },
  {
   "cell_type": "code",
   "execution_count": null,
   "metadata": {},
   "outputs": [],
   "source": []
  }
 ],
 "metadata": {
  "kernelspec": {
   "display_name": "Python 3",
   "language": "python",
   "name": "python3"
  },
  "language_info": {
   "codemirror_mode": {
    "name": "ipython",
    "version": 3
   },
   "file_extension": ".py",
   "mimetype": "text/x-python",
   "name": "python",
   "nbconvert_exporter": "python",
   "pygments_lexer": "ipython3",
   "version": "3.6.2"
  }
 },
 "nbformat": 4,
 "nbformat_minor": 2
}
