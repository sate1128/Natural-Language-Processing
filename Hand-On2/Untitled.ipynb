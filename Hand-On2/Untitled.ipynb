{
 "cells": [
  {
   "cell_type": "code",
   "execution_count": 9,
   "metadata": {},
   "outputs": [
    {
     "data": {
      "text/plain": [
       "'(N, N)\\t28\\t埃及艷後\\t奇蹟先生\\t江水東流\\t南海美人魚\\t爵士歌手\\t百老匯之歌\\t湯姆曆險記\\t科學怪人\\t白雪公主\\t亂世佳人\\t木偶奇遇記\\t約剋軍曹\\t南方之歌\\t金耳環\\t霸王妖姬\\t暴君焚域錄\\t桂河大橋\\t埃及艷後\\t森林王子\\t愛的故事\\t洛奇續集\\tE.T.外星人\\t魔鬼剋星\\t聖戰奇兵\\t侏儸紀公園\\t世界末日\\t復仇者聯盟\\t冰雪奇緣\\n(N)\\t22\\t米奇\\t羅賓漢\\t蓬車隊\\t海鷹\\t禮帽\\t茶花女\\t小鹿斑比\\t小飛俠\\t後窗\\t十誡\\t南太平洋\\t賓漢\\t真善美\\t教父\\t大白鯊\\t洛基\\t雨人\\t阿拉丁\\t獅子王\\t鐵達尼號\\t史瑞剋2\\t阿凡達\\n(V, N)\\t4\\t毀滅之路\\t相逢聖路易\\t迴到未來\\t捍衛戰士'"
      ]
     },
     "execution_count": 9,
     "metadata": {},
     "output_type": "execute_result"
    }
   ],
   "source": [
    "from hanziconv import HanziConv\n",
    "f = open('0656109_黃慎航_task3.txt', 'r')\n",
    "content = f.read()\n",
    "f.close()\n",
    "content = HanziConv.toTraditional(content)\n",
    "content"
   ]
  },
  {
   "cell_type": "code",
   "execution_count": 10,
   "metadata": {},
   "outputs": [],
   "source": [
    "text_file = open(\"0656109_黃慎航_task3.txt\", \"w\")\n",
    "text_file.write(content)\n",
    "text_file.close()"
   ]
  },
  {
   "cell_type": "code",
   "execution_count": null,
   "metadata": {},
   "outputs": [],
   "source": []
  }
 ],
 "metadata": {
  "kernelspec": {
   "display_name": "Python 3",
   "language": "python",
   "name": "python3"
  },
  "language_info": {
   "codemirror_mode": {
    "name": "ipython",
    "version": 3
   },
   "file_extension": ".py",
   "mimetype": "text/x-python",
   "name": "python",
   "nbconvert_exporter": "python",
   "pygments_lexer": "ipython3",
   "version": "3.6.2"
  }
 },
 "nbformat": 4,
 "nbformat_minor": 2
}
